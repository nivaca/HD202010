{
 "cells": [
  {
   "cell_type": "markdown",
   "metadata": {},
   "source": [
    "# [Herramientas digitales — Módulo 3: Texto digital (202010)](HD_Texto_Digital.ipynb)\n",
    "\n",
    "## [Maestría en Humanidades Digitales, Universidad de los Andes](https://posgradosfacartes.uniandes.edu.co/programas/humanidades-digitales/)\n",
    "\n",
    "#### [Nicolás Vaughan](https://literatura.uniandes.edu.co/member/nicolas-vaughan-caro/)\n",
    "\n",
    "## Sesión 2: XML y TEI"
   ]
  },
  {
   "cell_type": "markdown",
   "metadata": {},
   "source": [
    "## Algunos ejemplos (de lo que no se debe hacer*):\n",
    "\n",
    "- https://bibliotecanacional.gov.co/content/conservacion?idFichero=162750\n",
    "- https://www.corpusthomisticum.org/iopera.html\n",
    "- https://filosofia.javeriana.edu.co/investigacion/grupos-investigacion/bvpfc\n",
    "\n",
    "\n",
    "\\* desde la perspectiva de las HD, por lo menos..."
   ]
  },
  {
   "cell_type": "markdown",
   "metadata": {},
   "source": [
    "---"
   ]
  },
  {
   "cell_type": "markdown",
   "metadata": {},
   "source": [
    "## Ejercicio 1\n",
    "\n",
    "Examinen la siguiente carta:\n",
    "![Cortazar](https://raw.githubusercontent.com/nivaca/HD202010/master/img/carta_cortazar.gif)\n",
    "\n",
    "Si hay dudas con la letra, ayúdense [aquí](https://libroemmagunst.blogspot.com/2010/07/ellos.html)"
   ]
  },
  {
   "cell_type": "markdown",
   "metadata": {},
   "source": [
    "### ¿Qué elementos necesitaremos?\n",
    "\n",
    "Miren el texto y revisen la referencia de TEI: https://www.tei-c.org/release/doc/tei-p5-doc/en/html/index.html\n"
   ]
  },
  {
   "cell_type": "markdown",
   "metadata": {},
   "source": [
    "### Transcriban la carta en TEI \n",
    "- Usen la plantilla TEI ALL de Oxygen:\n",
    "![teiall](https://raw.githubusercontent.com/nivaca/HD202010/master/img/teiall.png)"
   ]
  },
  {
   "cell_type": "code",
   "execution_count": null,
   "metadata": {},
   "outputs": [],
   "source": []
  }
 ],
 "metadata": {
  "kernelspec": {
   "display_name": "Python 3",
   "language": "python",
   "name": "python3"
  },
  "language_info": {
   "codemirror_mode": {
    "name": "ipython",
    "version": 3
   },
   "file_extension": ".py",
   "mimetype": "text/x-python",
   "name": "python",
   "nbconvert_exporter": "python",
   "pygments_lexer": "ipython3",
   "version": "3.8.2"
  }
 },
 "nbformat": 4,
 "nbformat_minor": 2
}
