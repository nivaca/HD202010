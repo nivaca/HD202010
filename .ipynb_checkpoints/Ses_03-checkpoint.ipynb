{
 "cells": [
  {
   "cell_type": "markdown",
   "metadata": {},
   "source": [
    "# [Herramientas digitales — Módulo 3: Texto digital (202010)](HD_Texto_Digital.ipynb)\n",
    "\n",
    "## [Maestría en Humanidades Digitales, Universidad de los Andes](https://posgradosfacartes.uniandes.edu.co/programas/humanidades-digitales/)\n",
    "\n",
    "#### [Nicolás Vaughan](https://literatura.uniandes.edu.co/member/nicolas-vaughan-caro/)\n",
    "\n",
    "## Sesión 3: CSS, XPath y XSLT"
   ]
  },
  {
   "cell_type": "markdown",
   "metadata": {},
   "source": [
    "### 1. CSS\n",
    "\n",
    "- Guarden en su computador el archivo [cartabolivar.xml](https://raw.githubusercontent.com/nivaca/HD202010/master/otros/cartabolivar.xml) y ábranlo en Oxygen XML Editor.\n",
    "\n",
    "- Ahora ábranlo en su navegador.\n",
    "\n",
    "- Guarden en su computador el archivo [carta.css](https://raw.githubusercontent.com/nivaca/HD202010/master/otros/carta.css) y ábranlo en Oxygen XML.\n",
    "\n",
    "- Añadan la siguiente línea en `cartabolivar.xml` en Oxygen XML Editor, antes de `<TEI xmlns: ...`:\n",
    "\n",
    "```xml\n",
    "<?xml-stylesheet href=\"carta.css\"?>\n",
    "```\n",
    "- Guarden `cartabolivar.xml` y vuélvanla abrir en el navegador.\n",
    "\n",
    "- Consulten la referencia de CSS [aquí](https://www.w3schools.com/css/)."
   ]
  },
  {
   "cell_type": "markdown",
   "metadata": {},
   "source": [
    "### 2. CSS"
   ]
  },
  {
   "cell_type": "markdown",
   "metadata": {},
   "source": [
    "### 3. Brevísima introducción a XSLT"
   ]
  },
  {
   "cell_type": "markdown",
   "metadata": {},
   "source": []
  }
 ],
 "metadata": {
  "kernelspec": {
   "display_name": "Python 3",
   "language": "python",
   "name": "python3"
  },
  "language_info": {
   "codemirror_mode": {
    "name": "ipython",
    "version": 3
   },
   "file_extension": ".py",
   "mimetype": "text/x-python",
   "name": "python",
   "nbconvert_exporter": "python",
   "pygments_lexer": "ipython3",
   "version": "3.8.2"
  }
 },
 "nbformat": 4,
 "nbformat_minor": 2
}
