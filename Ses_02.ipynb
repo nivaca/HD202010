{
 "cells": [
  {
   "cell_type": "markdown",
   "metadata": {},
   "source": [
    "# [Herramientas digitales — Módulo 3: Texto digital (202010)](HD_Texto_Digital.ipynb)\n",
    "\n",
    "## [Maestría en Humanidades Digitales, Universidad de los Andes](https://posgradosfacartes.uniandes.edu.co/programas/humanidades-digitales/)\n",
    "\n",
    "#### [Nicolás Vaughan](https://literatura.uniandes.edu.co/member/nicolas-vaughan-caro/)\n",
    "\n",
    "## Sesión 2: XML y TEI"
   ]
  },
  {
   "cell_type": "markdown",
   "metadata": {},
   "source": [
    "## Algunos ejemplos (de lo que no se debe hacer*):\n",
    "\n",
    "- https://bibliotecanacional.gov.co/content/conservacion?idFichero=162750\n",
    "- https://www.corpusthomisticum.org/iopera.html\n",
    "- https://filosofia.javeriana.edu.co/investigacion/grupos-investigacion/bvpfc\n",
    "\n",
    "\n",
    "\\* desde la perspectiva de las HD, por lo menos..."
   ]
  },
  {
   "cell_type": "markdown",
   "metadata": {},
   "source": [
    "---"
   ]
  },
  {
   "cell_type": "markdown",
   "metadata": {},
   "source": [
    "## Ejercicio 1\n",
    "\n",
    "Examinen la siguiente carta de Julio Cortázar:\n",
    "![Cortazar](https://raw.githubusercontent.com/nivaca/HD202010/master/img/carta_cortazar.gif)\n",
    "\n",
    "Si tienen dudas con la letra, ayúdense [aquí](https://libroemmagunst.blogspot.com/2010/07/ellos.html)"
   ]
  },
  {
   "cell_type": "markdown",
   "metadata": {},
   "source": [
    "#### ¿Qué elementos de TEI necesitaremos?\n",
    "\n",
    "Miren el texto y revisen la referencia de TEI: https://www.tei-c.org/release/doc/tei-p5-doc/en/html/index.html\n"
   ]
  },
  {
   "cell_type": "markdown",
   "metadata": {},
   "source": [
    "#### Transcriban la carta en TEI \n",
    "- Usen la plantilla TEI ALL de Oxygen:\n",
    "![teiall](https://raw.githubusercontent.com/nivaca/HD202010/master/img/teiallox.png)"
   ]
  },
  {
   "cell_type": "markdown",
   "metadata": {},
   "source": [
    "## Ejercicio 2\n",
    "\n",
    "Examinen el siguiente examen de un curso de Hannah Arendt:\n",
    "![arendt](https://raw.githubusercontent.com/nivaca/HD202010/master/img/arendt_exam.jpeg)\n",
    "\n",
    "Un PDF con el texto reconocido (¡ojo, seguro contiene errores!) está [aquí](https://raw.githubusercontent.com/nivaca/HD202010/master/img/arendt_exam.pdf)."
   ]
  },
  {
   "cell_type": "markdown",
   "metadata": {},
   "source": [
    "### Nuevamente,\n",
    "\n",
    "#### ¿Qué elementos de TEI necesitaremos?\n",
    "\n",
    "#### Transcriban la carta en TEI."
   ]
  },
  {
   "cell_type": "markdown",
   "metadata": {},
   "source": [
    "---"
   ]
  },
  {
   "cell_type": "markdown",
   "metadata": {},
   "source": [
    "# Tarea No. 2\n",
    "\n",
    "Teniendo en los parámetros de codificación especificados por TEI, transcriban y codifiquen lo más completamente posible la *Carta de Jamaica de Bolívar* (disponible aquí) (pp. 9–31 del PDF únicamente). Deben codificar al menos lo siguiente:\n",
    "\n",
    "- Nombres de personas y de lugares\n",
    "- Saltos de página (lo que encuentran dentro de \"// folio 2 //\")\n",
    "- Fechas  y horas (§10.2)\n",
    "- Texto entre comillas (§6.2)\n",
    "- Expandir abreviaturas (usando <choice>)\n",
    "- Completar lo mejor posible la información del <teiHeader> (título, autor, codificador, fuente, fechas, etc.)\n",
    "- Tengan en cuenta que es una carta. Codifiquen sus elementos de acuerdo con ello (§18.1.2).\n",
    "- El archivo XML debe ser válido (usen el validador de Oxygen).\n",
    "El nombre del archivo debe contener sus apellidos (e.g. \"Vaughan.xml\").\n",
    "Fecha de entrega: viernes 27 de septiembre, 4:00 p.m.\n",
    "Modo de entrega: a mi email (asunto del mensaje: \"Tarea 3\")\n",
    "\n",
    "Recomendación\n",
    "\n",
    "En muchos casos podrán usar expresiones regulares en Oxygen o Atom.\n",
    "\n",
    "Un ejemplo de cómo encerrar una palabra (\"Venezuela\") entre una etiqueta (\"<name type=\"place><name>\") en Oxygen:\n",
    "\n"
   ]
  }
 ],
 "metadata": {
  "kernelspec": {
   "display_name": "Python 3",
   "language": "python",
   "name": "python3"
  },
  "language_info": {
   "codemirror_mode": {
    "name": "ipython",
    "version": 3
   },
   "file_extension": ".py",
   "mimetype": "text/x-python",
   "name": "python",
   "nbconvert_exporter": "python",
   "pygments_lexer": "ipython3",
   "version": "3.8.2"
  }
 },
 "nbformat": 4,
 "nbformat_minor": 2
}
