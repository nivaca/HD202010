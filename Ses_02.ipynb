{
 "cells": [
  {
   "cell_type": "markdown",
   "metadata": {},
   "source": [
    "# [Herramientas digitales — Módulo 3: Texto digital (202010)](HD_Texto_Digital.ipynb)\n",
    "\n",
    "## [Maestría en Humanidades Digitales, Universidad de los Andes](https://posgradosfacartes.uniandes.edu.co/programas/humanidades-digitales/)\n",
    "\n",
    "#### [Nicolás Vaughan](https://literatura.uniandes.edu.co/member/nicolas-vaughan-caro/)\n",
    "\n",
    "## Sesión 2: XML y TEI"
   ]
  },
  {
   "cell_type": "markdown",
   "metadata": {},
   "source": [
    "## Algunos \"anti-ejemplos\" (de lo que *no* se debe hacer\\*)\n",
    "\n",
    "- https://bibliotecanacional.gov.co/content/conservacion?idFichero=162750\n",
    "- https://www.corpusthomisticum.org/iopera.html\n",
    "- https://filosofia.javeriana.edu.co/investigacion/grupos-investigacion/bvpfc\n",
    "- ...\n",
    "\n",
    "\\* desde la perspectiva de las HD, por lo menos...\n",
    "\n",
    "\n",
    "## Y unos buenos ejemplos\n",
    "\n",
    "- *La Dama Boba*, http://damaboba.unibo.it/proyecto#recursos\n",
    "- *The Women Writers Project*, https://www.wwp.northeastern.edu/\n",
    "- *Digital Averroes Research Environment (DARE)*, https://dare.uni-koeln.de/\n",
    "- *Scholastic Commentaries and Texts Archive (SCTA)*, https://scta.info/\n",
    "- Y muchos [más...](https://tei-c.org/activities/projects/)\n",
    "\n"
   ]
  },
  {
   "cell_type": "markdown",
   "metadata": {},
   "source": [
    "---"
   ]
  },
  {
   "cell_type": "markdown",
   "metadata": {},
   "source": [
    "## TEI Lite\n",
    "\n",
    "[TEI Lite](https://tei-c.org/release/doc/tei-p5-exemplars/html/tei_lite.doc.html) es el subconjunto de los elementos de TEI más comunes. (`TEI All` los contiene [todos](https://tei-c.org/release/doc/tei-p5-doc/en/html/), pero hay muchos que quizás jamás usaremos (e.g. transcripción fonográfica, *corpora* lingüísticos, etc.))\n",
    "\n",
    "Échenle una mirada."
   ]
  },
  {
   "cell_type": "markdown",
   "metadata": {},
   "source": [
    "---"
   ]
  },
  {
   "cell_type": "markdown",
   "metadata": {},
   "source": [
    "## Ejercicio 1\n",
    "\n",
    "Examinen la siguiente carta de Julio Cortázar:\n",
    "![Cortazar](https://raw.githubusercontent.com/nivaca/HD202010/master/img/carta_cortazar.gif)\n",
    "\n",
    "Si tienen dudas con la letra, ayúdense [aquí](https://libroemmagunst.blogspot.com/2010/07/ellos.html)"
   ]
  },
  {
   "cell_type": "markdown",
   "metadata": {},
   "source": [
    "#### ¿Qué elementos de TEI necesitaremos?\n",
    "\n",
    "Miren el texto y revisen la referencia de [TEI Lite](https://tei-c.org/release/doc/tei-p5-exemplars/html/tei_lite.doc.html).\n"
   ]
  },
  {
   "cell_type": "markdown",
   "metadata": {},
   "source": [
    "#### Transcriban la carta en TEI \n",
    "- Usen la plantilla TEI ALL de Oxygen:\n",
    "![teiall](https://raw.githubusercontent.com/nivaca/HD202010/master/img/teiallox.png)"
   ]
  },
  {
   "cell_type": "markdown",
   "metadata": {},
   "source": [
    "## Ejercicio 2\n",
    "\n",
    "Examinen el siguiente examen de un curso de Hannah Arendt:\n",
    "![arendt](https://raw.githubusercontent.com/nivaca/HD202010/master/img/arendt_exam.jpeg)\n",
    "\n",
    "Un PDF con el texto reconocido (¡ojo, seguro contiene errores!) está [aquí](https://raw.githubusercontent.com/nivaca/HD202010/master/img/arendt_exam.pdf)."
   ]
  },
  {
   "cell_type": "markdown",
   "metadata": {},
   "source": [
    "### Nuevamente,\n",
    "\n",
    "#### ¿Qué elementos de TEI necesitaremos?\n",
    "\n",
    "#### Transcriban la carta en TEI (sigan [TEI Lite](https://tei-c.org/release/doc/tei-p5-exemplars/html/tei_lite.doc.html))"
   ]
  }
 ],
 "metadata": {
  "kernelspec": {
   "display_name": "Python 3",
   "language": "python",
   "name": "python3"
  },
  "language_info": {
   "codemirror_mode": {
    "name": "ipython",
    "version": 3
   },
   "file_extension": ".py",
   "mimetype": "text/x-python",
   "name": "python",
   "nbconvert_exporter": "python",
   "pygments_lexer": "ipython3",
   "version": "3.8.2"
  }
 },
 "nbformat": 4,
 "nbformat_minor": 2
}
