{
 "cells": [
  {
   "cell_type": "markdown",
   "metadata": {},
   "source": [
    "# Tarea 2\n",
    "Teniendo en los parámetros de codificación especificados por [TEI Lite](https://tei-c.org/release/doc/tei-p5-exemplars/html/tei_lite.doc.html), transcriban y codifiquen lo más completamente posible la *Carta de Jamaica* de Bolívar (disponible [aquí](https://raw.githubusercontent.com/nivaca/HD202010/master/otros/Carta_de_Jamaica.pdf) o [aquí](https://albaciudad.org/wp-content/uploads/2015/09/08072015-Carta-de-Jamaica-WEB.pdf)) (pp. 9–31 del PDF únicamente). \n",
    "\n",
    "## Deben codificar al menos lo siguiente:\n",
    "\n",
    "- Nombres de personas y de lugares\n",
    "- Saltos de página (lo que encuentran dentro de \"// folio 2 //\")\n",
    "- Fechas  y horas (§10.2)\n",
    "- Texto entre comillas (§6.2)\n",
    "- Expandir abreviaturas (usando `<choice>`)\n",
    "- Completar lo mejor posible la información del `<teiHeader>` (título, autor, codificador, fuente, fechas, etc.)\n",
    "- Tengan en cuenta que es una carta. Codifiquen sus elementos de acuerdo con ello (§18.1.2).\n",
    "- El archivo XML debe ser válido (usen el validador de Oxygen).\n",
    "\n",
    "## Fecha de entrega máxima: *lunes 4 de mayo a las 11:59*\n",
    "- A mi email ([n.vaughan@uniandes.edu.co](mailto:n.vaughan@uniadnes.edu.co)).\n",
    "- El \"tema\" (subject) del email debe ser `Tarea 2 HD`.\n",
    "- El archivo que deben adjuntar debe llamarse así: `su_apellido_tarea2.xml` (reemplacen `su_apellido` por su apellido).\n",
    "\n",
    "\n",
    "## Recomendación\n",
    "\n",
    "En muchos casos podrán usar expresiones regulares en Oxygen.\n",
    "\n",
    "Un ejemplo de cómo encerrar una palabra (\"Venezuela\") entre una etiqueta (`<name type=\"place><name>`) en Oxygen:\n",
    "![oxg](https://raw.githubusercontent.com/nivaca/HD202010/master/img/regexoxygen.png)"
   ]
  },
  {
   "cell_type": "code",
   "execution_count": null,
   "metadata": {},
   "outputs": [],
   "source": []
  }
 ],
 "metadata": {
  "kernelspec": {
   "display_name": "Python 3",
   "language": "python",
   "name": "python3"
  },
  "language_info": {
   "codemirror_mode": {
    "name": "ipython",
    "version": 3
   },
   "file_extension": ".py",
   "mimetype": "text/x-python",
   "name": "python",
   "nbconvert_exporter": "python",
   "pygments_lexer": "ipython3",
   "version": "3.8.2"
  }
 },
 "nbformat": 4,
 "nbformat_minor": 2
}
