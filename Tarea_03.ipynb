{
 "cells": [
  {
   "cell_type": "markdown",
   "metadata": {},
   "source": [
    "# Tarea 3\n",
    "Teniendo en cuenta [esta guía de referencia de CSS](https://www.w3schools.com/css/), adapten el archivo `carta.css` para dar formato a *todos* los elementos usados en el documento `cartabolivar.css`.\n",
    "El resultado debe ser visualizable en un navegador web y debe resultar agradable y legible.\n",
    "\n",
    "## Fecha de entrega máxima: *viernes 29 de mayo a las 11:59*\n",
    "- A mi email ([n.vaughan@uniandes.edu.co](mailto:n.vaughan@uniadnes.edu.co)).\n",
    "- El \"tema\" (subject) del email debe ser `Tarea 3 HD`.\n",
    "- El archivo que deben adjuntar debe llamarse así: `su_apellido_tarea2.css` (reemplacen `su_apellido` por su apellido)."
   ]
  }
 ],
 "metadata": {
  "kernelspec": {
   "display_name": "Python 3",
   "language": "python",
   "name": "python3"
  },
  "language_info": {
   "codemirror_mode": {
    "name": "ipython",
    "version": 3
   },
   "file_extension": ".py",
   "mimetype": "text/x-python",
   "name": "python",
   "nbconvert_exporter": "python",
   "pygments_lexer": "ipython3",
   "version": "3.8.2"
  }
 },
 "nbformat": 4,
 "nbformat_minor": 2
}
