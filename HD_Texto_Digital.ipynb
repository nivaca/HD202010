{
 "cells": [
  {
   "cell_type": "markdown",
   "metadata": {},
   "source": [
    "# Herramientas digitales \n",
    "## Módulo 3: Texto digital (202020)\n",
    "\n",
    "## [Maestría en Humanidades Digitales, Universidad de los Andes](https://posgradosfacartes.uniandes.edu.co/programas/humanidades-digitales/)\n",
    "\n",
    "#### [Nicolás Vaughan](https://literatura.uniandes.edu.co/member/nicolas-vaughan-caro/)"
   ]
  },
  {
   "cell_type": "markdown",
   "metadata": {},
   "source": [
    "***  "
   ]
  },
  {
   "cell_type": "markdown",
   "metadata": {},
   "source": [
    "\n",
    "# Sesiones\n",
    "## [1. Introducción a RegEx, Markdown y Pandoc](Ses_01.ipynb) (24 de abril)\n",
    "## 2. Introducción a TEI (8 de mayo)\n",
    "## 3. Taller (15 de mayo)\n",
    "## 4. Introducción a TEI (22 de mayo)"
   ]
  },
  {
   "cell_type": "markdown",
   "metadata": {},
   "source": [
    "***"
   ]
  },
  {
   "cell_type": "markdown",
   "metadata": {},
   "source": [
    "\n",
    "## Software que usaremos\n",
    "- **Pandoc**, para convertir formatos de documentos: https://pandoc.org/\n",
    "- **Atom**, editor de texto para programadores: https://atom.io\n",
    "- **OxygenXML**, editor de texto especializado para XML: https://www.oxygenxml.com/ (cuando sea el momento, deberán solicitar una versión de prueba aquí: https://www.oxygenxml.com/register.html)\n",
    "- **Saxon HE**, procesador para XSLT: http://www.saxonica.com/download/java.xml (necesitan tener instalado Java en su computador para poder usarlo: https://java.com/es/download/ )\n",
    "\n",
    "\n",
    "## Páginas web\n",
    "\n",
    "### Sobre Markdown\n",
    "- \"Sintaxis de Markdown\", en: https://daringfireball.net/projects/markdown/syntax\n",
    "- \"Guía de referencia de Markdown\", en: https://markdown.es/\n",
    "\n",
    "### Sobre expresiones regulares (RegEx)\n",
    "- https://www.regular-expressions.info/\n",
    "- https://regexone.com/\n",
    "- \"Expresión regular\", en: https://es.wikipedia.org/wiki/Expresi%C3%B3n_regular\n",
    "- \"Regular Expression\", en: https://en.wikipedia.org/wiki/Regular_expression\n",
    "- \"Regex and Find-and-Replace with Atom\", en: http://2017.compciv.org/guide/topics/end-user-software/atom/how-to-use-regex-atom.html\n",
    "\n",
    "### Sobre TEI\n",
    "- \"TEI Guidelines\", en: https://www.tei-c.org/release/doc/tei-p5-doc/en/html/index.html\n",
    "- \"TEI by Example\", en: https://teibyexample.org/\n",
    "\n",
    "\n",
    "## Bibliografía\n",
    "- Burnard, Lou. *What is the Text Encoding Initiative? How to add intelligent markup to digital resources.* Marseille: OpenEdition, 2014. Disponible en: https://books.openedition.org/oep/426?lang=en\n",
    "- Cagle, Kurt & Hunter, David. *Beginning XML.* Birmingham: Wrox, 2000. https://univdelosandes.on.worldcat.org/oclc/318216880 \n",
    "- Ide, Nancy M. & Veronis, Jean (1998). *Text Encoding Initiative: Background and Context.* Dordrecht/London: Kluwer"
   ]
  },
  {
   "cell_type": "code",
   "execution_count": null,
   "metadata": {},
   "outputs": [],
   "source": []
  }
 ],
 "metadata": {
  "kernelspec": {
   "display_name": "Python 3",
   "language": "python",
   "name": "python3"
  },
  "language_info": {
   "codemirror_mode": {
    "name": "ipython",
    "version": 3
   },
   "file_extension": ".py",
   "mimetype": "text/x-python",
   "name": "python",
   "nbconvert_exporter": "python",
   "pygments_lexer": "ipython3",
   "version": "3.8.2"
  }
 },
 "nbformat": 4,
 "nbformat_minor": 2
}
