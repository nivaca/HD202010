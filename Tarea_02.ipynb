{
 "cells": [
  {
   "cell_type": "markdown",
   "metadata": {},
   "source": [
    "# Tarea 2\n",
    "Teniendo en los parámetros de codificación especificados por los [TEI Guidelines](https://www.tei-c.org/release/doc/tei-p5-doc/en/html/index.html), y usando el esquema de `TEI All` en Oxygen, transcriban y codifiquen lo más completamente posible la *Carta de Jamaica* de Bolívar (disponible en texto plano [aquí](https://raw.githubusercontent.com/nivaca/HD202010/master/otros/carta.txt)). \n",
    "\n",
    "## Deben codificar al menos lo siguiente:\n",
    "\n",
    "- Nombres de personas y de lugares\n",
    "- Saltos de página (por ejemplo, \"// folio 2 //\" → `<pb n=\"2\"/>`)\n",
    "- Fechas y horas\n",
    "- Párrafos\n",
    "- Texto entre comillas (`<q>`) (tengan cuidado de excluir los incisos, e.g., `, dice V. ,`)\n",
    "- Expandir abreviaturas (usando `<choice>`)\n",
    "- Completar lo mejor posible la información del `<teiHeader>` (título, autor, codificador, fuente, fechas, etc.)\n",
    "- Tengan en cuenta que es una **carta**. Codifiquen sus elementos de acuerdo con ello\n",
    "- El archivo XML debe ser válido (usen el validador de Oxygen)\n",
    "\n",
    "## Fecha de entrega máxima: *lunes 18 de mayo a las 11:59*\n",
    "- A mi email ([n.vaughan@uniandes.edu.co](mailto:n.vaughan@uniadnes.edu.co)).\n",
    "- El \"tema\" (subject) del email debe ser `Tarea 2 HD`.\n",
    "- El archivo que deben adjuntar debe llamarse así: `su_apellido_tarea2.xml` (reemplacen `su_apellido` por su apellido).\n",
    "\n",
    "\n",
    "## Recomendación\n",
    "\n",
    "En muchos casos podrán usar expresiones regulares en Oxygen.\n",
    "\n",
    "1. El caracter `&` es un caracter reservado en XML. Tienen que escaparlo usando `&amp;`\n",
    "\n",
    "2. Un ejemplo de cómo encerrar una palabra (\"Bonaparte\") en un elemento (`<name>`) en Oxygen:\n",
    "![oxg](https://raw.githubusercontent.com/nivaca/HD202010/master/img/regexoxygen.png)"
   ]
  }
 ],
 "metadata": {
  "kernelspec": {
   "display_name": "Python 3",
   "language": "python",
   "name": "python3"
  },
  "language_info": {
   "codemirror_mode": {
    "name": "ipython",
    "version": 3
   },
   "file_extension": ".py",
   "mimetype": "text/x-python",
   "name": "python",
   "nbconvert_exporter": "python",
   "pygments_lexer": "ipython3",
   "version": "3.8.2"
  }
 },
 "nbformat": 4,
 "nbformat_minor": 2
}
