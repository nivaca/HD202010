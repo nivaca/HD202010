{
 "cells": [
  {
   "cell_type": "markdown",
   "metadata": {},
   "source": [
    "# [Herramientas digitales — Módulo 3: Texto digital (202010)](HD_Texto_Digital.ipynb)\n",
    "\n",
    "## [Maestría en Humanidades Digitales, Universidad de los Andes](https://posgradosfacartes.uniandes.edu.co/programas/humanidades-digitales/)\n",
    "\n",
    "#### [Nicolás Vaughan](https://literatura.uniandes.edu.co/member/nicolas-vaughan-caro/)\n",
    "\n",
    "## Sesión 3: CSS, XPath y XSLT"
   ]
  },
  {
   "cell_type": "markdown",
   "metadata": {},
   "source": [
    "### 1. CSS\n",
    "\n",
    "- Guarden en su computador el archivo [cartabolivar.xml](https://raw.githubusercontent.com/nivaca/HD202010/master/otros/cartabolivar.xml) y ábranlo en Oxygen XML Editor.\n",
    "\n",
    "- Ahora ábranlo en su navegador.\n",
    "\n",
    "- Guarden en su computador el archivo [carta.css](https://raw.githubusercontent.com/nivaca/HD202010/master/otros/carta.css) y ábranlo en Oxygen XML Editor.\n",
    "\n",
    "- Añadan la siguiente línea en `cartabolivar.xml` en Oxygen XML Editor, antes de `<TEI xmlns: ...`:\n",
    "\n",
    "```xml\n",
    "<?xml-stylesheet href=\"carta.css\"?>\n",
    "```\n",
    "- Guarden `cartabolivar.xml` y vuélvanla abrir en el navegador.\n",
    "\n",
    "- Consulten la guía referencia de CSS [aquí](https://www.w3schools.com/css/).\n",
    "\n",
    "---"
   ]
  },
  {
   "cell_type": "markdown",
   "metadata": {},
   "source": [
    "### Ejercicio (15 minutos)\n",
    "\n",
    "Sobre la base de esa guía de referencia, añadan más reglas CSS para los elementos de su documento.\n",
    "\n",
    "---"
   ]
  },
  {
   "cell_type": "markdown",
   "metadata": {},
   "source": [
    "### 2. XPath\n",
    "\n",
    "- En la barra de XPath en Oxygen XML Editor\n",
    " \n",
    "![oxxpath](https://raw.githubusercontent.com/nivaca/HD202010/master/img/oxxpath.png)\n",
    "\n",
    "sobre el documento cartabolivar.xml`, hagan las siguientes búsquedas:\n",
    "\n",
    "- `/TEI/teiHeader/fileDesc/titleStmt/title`\n",
    "- `//title`\n",
    "- `//title[@type=\"periódico\"]`\n",
    "- `//p/title`\n",
    "- `//p[1]`\n",
    "- `//p[last()]`\n",
    "- `//p[last()-1]`\n",
    "- `count(//p)`\n",
    "- `//num[@value]`\n",
    "- `//num/@value`\n",
    "- `sum(//num/@value)`\n",
    "- `//num/.`\n",
    "- `//p/.`\n",
    "- `//p[1]/.`\n",
    "- `//p[1]/normalize-space(.)`\n",
    "- `substring-before(//p[1]/normalize-space(.), ' ')`\n",
    "- `replace(//p[3], 'imposible', 'inconcebible')`\n",
    "---"
   ]
  },
  {
   "cell_type": "markdown",
   "metadata": {},
   "source": [
    "### 3. XSLT\n",
    "\n",
    "- Guarden en su computador el archivo [carta.xsl](https://raw.githubusercontent.com/nivaca/HD202010/master/otros/carta.xsl) y ábranlo en Oxygen XML Editor.\n",
    "\n",
    "- Pasen a modo XSLT en Oxygen XML Editor:\n",
    "![oxxslt](https://raw.githubusercontent.com/nivaca/HD202010/master/img/oxxslt.png)\n",
    "\n",
    "<br/>\n",
    "\n",
    "- Asegúrense de que `cartabolivar.xml` y `carta.xsl` estén seleccionados en los campos de `XML` y `XSL`, respectivamente en la barra de arriba:\n",
    "![oxxslt02](https://raw.githubusercontent.com/nivaca/HD202010/master/img/oxxsltsetup.png)\n",
    "\n",
    "- "
   ]
  },
  {
   "cell_type": "markdown",
   "metadata": {},
   "source": []
  }
 ],
 "metadata": {
  "kernelspec": {
   "display_name": "Python 3",
   "language": "python",
   "name": "python3"
  },
  "language_info": {
   "codemirror_mode": {
    "name": "ipython",
    "version": 3
   },
   "file_extension": ".py",
   "mimetype": "text/x-python",
   "name": "python",
   "nbconvert_exporter": "python",
   "pygments_lexer": "ipython3",
   "version": "3.8.2"
  }
 },
 "nbformat": 4,
 "nbformat_minor": 2
}
